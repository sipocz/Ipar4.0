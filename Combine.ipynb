{
  "nbformat": 4,
  "nbformat_minor": 0,
  "metadata": {
    "colab": {
      "name": "Combine.ipynb",
      "provenance": [],
      "authorship_tag": "ABX9TyMfrzrKWYHyi/F3FpVu7aNj",
      "include_colab_link": true
    },
    "kernelspec": {
      "name": "python3",
      "display_name": "Python 3"
    },
    "language_info": {
      "name": "python"
    }
  },
  "cells": [
    {
      "cell_type": "markdown",
      "metadata": {
        "id": "view-in-github",
        "colab_type": "text"
      },
      "source": [
        "<a href=\"https://colab.research.google.com/github/sipocz/Ipar4.0/blob/main/Combine.ipynb\" target=\"_parent\"><img src=\"https://colab.research.google.com/assets/colab-badge.svg\" alt=\"Open In Colab\"/></a>"
      ]
    },
    {
      "cell_type": "code",
      "metadata": {
        "id": "X47rQYwkA5lM"
      },
      "source": [
        "a=[\n",
        "[\"a1\",\"a2\"],\n",
        "[\"b1\",\"b2\",\"b3\"],\n",
        "[\"c1\",\"c2\",\"c3\",\"c4\"],\n",
        "]"
      ],
      "execution_count": 2,
      "outputs": []
    },
    {
      "cell_type": "code",
      "metadata": {
        "colab": {
          "base_uri": "https://localhost:8080/"
        },
        "id": "ag7LQf55Bd8t",
        "outputId": "ef4d2bf6-ef1d-4bdd-8684-761cc1a98142"
      },
      "source": [
        "sz=1\n",
        "for i in a[0]:\n",
        "    for j in a[1]:\n",
        "        for k in a[2]:\n",
        "            print (f\"{sz:4}  {i} -- {j} -- {k}\")\n",
        "            sz+=1\n",
        "    "
      ],
      "execution_count": 10,
      "outputs": [
        {
          "output_type": "stream",
          "name": "stdout",
          "text": [
            "   1  a1 -- b1 -- c1\n",
            "   2  a1 -- b1 -- c2\n",
            "   3  a1 -- b1 -- c3\n",
            "   4  a1 -- b1 -- c4\n",
            "   5  a1 -- b2 -- c1\n",
            "   6  a1 -- b2 -- c2\n",
            "   7  a1 -- b2 -- c3\n",
            "   8  a1 -- b2 -- c4\n",
            "   9  a1 -- b3 -- c1\n",
            "  10  a1 -- b3 -- c2\n",
            "  11  a1 -- b3 -- c3\n",
            "  12  a1 -- b3 -- c4\n",
            "  13  a2 -- b1 -- c1\n",
            "  14  a2 -- b1 -- c2\n",
            "  15  a2 -- b1 -- c3\n",
            "  16  a2 -- b1 -- c4\n",
            "  17  a2 -- b2 -- c1\n",
            "  18  a2 -- b2 -- c2\n",
            "  19  a2 -- b2 -- c3\n",
            "  20  a2 -- b2 -- c4\n",
            "  21  a2 -- b3 -- c1\n",
            "  22  a2 -- b3 -- c2\n",
            "  23  a2 -- b3 -- c3\n",
            "  24  a2 -- b3 -- c4\n"
          ]
        }
      ]
    }
  ]
}